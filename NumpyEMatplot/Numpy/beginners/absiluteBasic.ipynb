{
 "cells": [
  {
   "cell_type": "markdown",
   "source": [
    "#####  Welcome to Numpy\n",
    "Numpy(Numerical Python) is an open source libary that's used in almost every field of science and engineering. it's universal standard for working with numerical data in python, and it's at the core of the scientific Python and pyData ecosystems. NumPy users include everone from beginning coders to experienced researchers doing state-of-the-art scientific and industrial research and development. The NumPy API is used extensively in Pandas, Scipy, Matplotlib, scikit-learn, scikit-image and most other data science and scientific Python packages.\n",
    "\n",
    "the NumPy library contains multidimensional array and matrix data structures (you'll find more information about this in later sections). It provides ndarray, a homegeneous n-dimensional array object, with methods to efficiently operate on it. NumPy can be used to perform a wide variety of mathematical operations on arrays. it adds powerfull data strictures to Python that guarantee efficient calculations with arrays and matrices and it supplies an enormous libraryof high-level mathematical functions that operate on these arrays and matrices.\n",
    "\n"
   ],
   "metadata": {}
  },
  {
   "cell_type": "markdown",
   "source": [
    "#### How to import Numpy\n",
    "To access numpy and its finctions import it in your python code like this:\n",
    "\n",
    "import numpy as np\n",
    "\n",
    "we shorten the imported name to np for better readability of code using numpy. This is a widely adopted convention that should follow so that anyone working with your code can easily understand it."
   ],
   "metadata": {}
  },
  {
   "cell_type": "markdown",
   "source": [
    "#### Reading the example code\n",
    "\n",
    "if you aren't already comfortable with reading tutorials that contain a lot of code you might not know how to interpret a code block that looks like this:\n",
    "\n",
    ">>> a = np.arange(6)\n",
    ">>> a2 = a[np.newaxis, :]\n",
    ">>> a2.shape\n",
    "(1,6)\n",
    "\n",
    "if you aren't familiar with this style, it's very easy to understand. if you see >>>, you're looking at input, or the code that you would enter. Everything that doesn't have >>> in front of it is output, or the results of running your code. this is the style you see when you run python on the command line, but if you're using Ipython you might see a different etyle. Note that it is not part of the code and will cause an error it typed or pasted into the Python shell. it can be safely typed or pasted into the Ipython shell.it can be safely typed or pasted into the Ipython shell; the >>> is ignored"
   ],
   "metadata": {}
  },
  {
   "cell_type": "markdown",
   "source": [
    "##### What's the difference between a Python list and a Numpy array?\n",
    "\n",
    "NumPy gives you an enourmous range of fast and efficient ways of creating arrays and manipulating numerical data inside them. While a Python list can contain different data types within a simple list, all of the elements in numPy array should be homogeneous. The matematical operations that are meant to be performed on arrays would be extremely inefficient if the arrays weren't homogeneous.\n",
    "\n",
    "why use NumPy?\n",
    "NumPy arrays are faster and more compact than python lists. An array consumes less memory and  is convenient to use . NumPy uses much less memory to store data and it provides a mechanism of specifying the data types. This allows the code to be optimized even further."
   ],
   "metadata": {}
  },
  {
   "cell_type": "markdown",
   "source": [
    "###### what is an array?\n",
    "An array is a central data structure of the NumPy library. An array is a grid of values and it contains information about the raw data, how to locate an element, and how to interpret an element. it has a grid of elements that can be indexed in various ways. The elements are all of the same Type, referred to as the array dtype.\n",
    "\n",
    "an array can be indexed by a tuple of nonnegative integers, by booleans, by another array, or by integers. the rank of the array is a tuple of integers giving the size of the array along each dimension.\n",
    "\n",
    "one way we can initialize NumPy arrays is from Python lists, using nested lists for two- or  higher-dimensional data.\n",
    "\n",
    "for example:\n",
    ">>> a = np.array([1,2,3,4,5,6])\n",
    "or\n",
    ">>> a= np.array([1,2,3,4],[5,6,7,8],[9,10,11,12])\n",
    "\n",
    "we can access the elements in the array using square brackets. When you're acessing elements, remember that indexing in NumPy starts at 0. That means that if you want to access the first element in your array, you'll be acessing element \"0\".\n",
    "\n",
    ">>> print(a[0])\n",
    "[1,2,3,4]"
   ],
   "metadata": {}
  },
  {
   "cell_type": "markdown",
   "source": [
    "#### More information about arrays\n",
    "\n",
    "You might ocassionally hear an array referred to as a \"ndarray\" which is shorthand for \"N-dimensional array.\" An N-dimensional array is a simply and array with any number of dimensions. You might also hear !-D, or one-dimensional array, 2-D, or two-dimensional array, ad so on. The NumPy ndarray class is ussed to represent both matrices and vectors. A vector is an array with a simple dimension (There's no difference between row and column vectors), while a matrix refers to an array with two dimensions. For 3-d or higher dimensional arrays, the term tensor is also commonly used.\n",
    "\n",
    "What are the attributes of an array?\n",
    "\n",
    "An array is usually a fixed-size container of items of the same type and size. The number of dimensions and items in an array is defined by its shape. the shape of an array is a tuple of non-negative integers that specify the sizes of each dimension.\n",
    "\n",
    "in NumPy, dimensions are called axes. This means that if you have a 2D array that looks like this\n",
    "\n",
    "[[0.0.0.],\n",
    " [1.,1.,1.]]\n",
    "\n",
    " your array has 2 aces. the first axis has a lenght of 2 and the second axis has a length of 3.\n",
    "\n",
    " Just like in other Python container objects, the contents of an array can be accessed and modified by indexing or slicing the arrays. Unlike the typical container objects, differents arrays can share the same data, so changes made on one array might be visible in another.\n",
    "\n",
    "Array attributes reflect information intrinsic to the array itself. If you need to get, or even set, properties of an array without creating a new array you can often access an array through its attributes.\n"
   ],
   "metadata": {}
  },
  {
   "cell_type": "markdown",
   "source": [
    "#### how to create a basic array\n",
    "\n",
    "To create a NumPy array, you can use the function np.array().\n",
    "\n",
    ">>> import numpy as np\n",
    ">>> a = np.array([1,2,3])\n",
    "\n",
    "you can isualize your array this way:\n",
    "Numpy Array\n",
    "1\n",
    "2\n",
    "3\n",
    "\n",
    "Be aware that these visualization are meant to simplify ideas and give you a basic understanding of NumPy concepts and mechanics. Arrays and array operations are much more complicated than are captured here!\n",
    "\n",
    "Besides creating an array from a sequence of elements, you can easily create an array filled with 0's\n",
    "\n",
    ">>> np.zeros(2)\n",
    "array([0.,0.])\n",
    "\n",
    "Or an array filled with 1's:\n",
    "\n",
    ">>> np.ones(2)\n",
    "array([1.,1.])\n",
    "\n",
    "Or even an enpty array\" the functions empty creates an array whose initial content is random and depends on the state of the memmory. the reason to use empty over zeros ( or something similar) is speed- just make sure to fill every element afterwards!\n",
    "\n",
    ">>> # create an empty array with 2 elements\n",
    ">>> np.empty(2)\n",
    "array([3.14,42.]) # may vary\n",
    "\n",
    "you can create an array with a range of elements:\n",
    "\n",
    ">> np.arange(4)\n",
    "array([0,1,2,3])\n",
    "\n",
    "And even an array that contains a range of evenly space intervals, to do this, you will specify the first number, the last number and the step size.\n",
    "\n",
    ">>> np.arange(2,9,2)\n",
    "array([2,4,6,8])\n",
    "\n",
    "\n",
    "you can also use np.linspace() to create an array with values that are spaced linearly in a specific interval:\n",
    "np.linespace(0,10, nums = 5)\n",
    "array([0., 2.5, 5., 7.5, 10.])\n",
    "\n",
    "Specifying your date type\n",
    "\n",
    "while the defeault data type is floating point (np.float64), you can explicity specify which data type you want using the dtyupe keyword.\n",
    "\n",
    ">>> x = np.ones(2, dtype=np.int64)\n",
    ">>> x\n",
    "array([1,1])"
   ],
   "metadata": {}
  },
  {
   "cell_type": "markdown",
   "source": [
    "Adding, removing, and sorting elements\n",
    "\n",
    "sorting an element is simple with np.sort(). you can specify the axis,kind , and order when you call the function.\n",
    "if you start with this sarray:\n",
    "\n",
    ">>> arr = np.array([2,1,5,3,7,5,6,8])\n",
    "\n",
    "you can quickly sort the numbers in ascending order with:\n",
    "\n",
    ">>>np.sort(arr)\n",
    "array([1,2,3,4,5,6,7,8])\n",
    "\n",
    "in addition to sort, which returns a sorted copy of an array, you can use:\n",
    ". argsort, which is an indirect sort along a specified axis,\n",
    ". lexsort, which is an indirect stable sort on multiple keys,\n",
    ". searchsorted, which will find elements in a sorted array, and\n",
    ". partition, which is a partial sort."
   ],
   "metadata": {}
  }
 ],
 "metadata": {
  "orig_nbformat": 4,
  "language_info": {
   "name": "python"
  }
 },
 "nbformat": 4,
 "nbformat_minor": 2
}